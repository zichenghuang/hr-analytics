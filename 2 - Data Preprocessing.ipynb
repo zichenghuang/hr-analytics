{
 "cells": [
  {
   "cell_type": "markdown",
   "id": "32940982",
   "metadata": {},
   "source": [
    "# Data Preprocessing"
   ]
  },
  {
   "cell_type": "code",
   "execution_count": 82,
   "id": "06d22bcf",
   "metadata": {},
   "outputs": [],
   "source": [
    "import numpy as np\n",
    "import pandas as pd\n",
    "import matplotlib.pyplot as plt\n",
    "%matplotlib inline\n",
    "import seaborn as sns\n",
    "sns.set_style('darkgrid')\n",
    "\n",
    "from sklearn.preprocessing import StandardScaler, FunctionTransformer\n",
    "from sklearn.model_selection import train_test_split\n",
    "from sklearn.decomposition import PCA"
   ]
  },
  {
   "cell_type": "code",
   "execution_count": 83,
   "id": "bf32ed55",
   "metadata": {},
   "outputs": [],
   "source": [
    "df = pd.read_csv('data/raw/aug_train.csv')"
   ]
  },
  {
   "cell_type": "markdown",
   "id": "c2befbea",
   "metadata": {},
   "source": [
    "## 1. Dataset Overview"
   ]
  },
  {
   "cell_type": "code",
   "execution_count": 84,
   "id": "b40111c0",
   "metadata": {},
   "outputs": [
    {
     "name": "stdout",
     "output_type": "stream",
     "text": [
      "<class 'pandas.core.frame.DataFrame'>\n",
      "RangeIndex: 19158 entries, 0 to 19157\n",
      "Data columns (total 14 columns):\n",
      " #   Column                  Non-Null Count  Dtype  \n",
      "---  ------                  --------------  -----  \n",
      " 0   enrollee_id             19158 non-null  int64  \n",
      " 1   city                    19158 non-null  object \n",
      " 2   city_development_index  19158 non-null  float64\n",
      " 3   gender                  14650 non-null  object \n",
      " 4   relevent_experience     19158 non-null  object \n",
      " 5   enrolled_university     18772 non-null  object \n",
      " 6   education_level         18698 non-null  object \n",
      " 7   major_discipline        16345 non-null  object \n",
      " 8   experience              19093 non-null  object \n",
      " 9   company_size            13220 non-null  object \n",
      " 10  company_type            13018 non-null  object \n",
      " 11  last_new_job            18735 non-null  object \n",
      " 12  training_hours          19158 non-null  int64  \n",
      " 13  target                  19158 non-null  float64\n",
      "dtypes: float64(2), int64(2), object(10)\n",
      "memory usage: 2.0+ MB\n"
     ]
    }
   ],
   "source": [
    "df.info()"
   ]
  },
  {
   "cell_type": "markdown",
   "id": "f41228e0",
   "metadata": {},
   "source": [
    "## 2. Duplicates"
   ]
  },
  {
   "cell_type": "markdown",
   "id": "e101ed38",
   "metadata": {},
   "source": [
    "- check if there are any duplicate entries in the dataset"
   ]
  },
  {
   "cell_type": "code",
   "execution_count": 85,
   "id": "963f341a",
   "metadata": {},
   "outputs": [
    {
     "data": {
      "text/plain": [
       "0"
      ]
     },
     "execution_count": 85,
     "metadata": {},
     "output_type": "execute_result"
    }
   ],
   "source": [
    "df.duplicated().sum()"
   ]
  },
  {
   "cell_type": "markdown",
   "id": "506a7a34",
   "metadata": {},
   "source": [
    "## 3. Missing Data"
   ]
  },
  {
   "cell_type": "markdown",
   "id": "5f479b13",
   "metadata": {},
   "source": [
    "- check if there are any missing data in the dataset"
   ]
  },
  {
   "cell_type": "code",
   "execution_count": 86,
   "id": "72ba24ab",
   "metadata": {},
   "outputs": [
    {
     "data": {
      "text/html": [
       "<div>\n",
       "<style scoped>\n",
       "    .dataframe tbody tr th:only-of-type {\n",
       "        vertical-align: middle;\n",
       "    }\n",
       "\n",
       "    .dataframe tbody tr th {\n",
       "        vertical-align: top;\n",
       "    }\n",
       "\n",
       "    .dataframe thead th {\n",
       "        text-align: right;\n",
       "    }\n",
       "</style>\n",
       "<table border=\"1\" class=\"dataframe\">\n",
       "  <thead>\n",
       "    <tr style=\"text-align: right;\">\n",
       "      <th></th>\n",
       "      <th>Missing Count</th>\n",
       "      <th>Missing %</th>\n",
       "    </tr>\n",
       "  </thead>\n",
       "  <tbody>\n",
       "    <tr>\n",
       "      <th>enrollee_id</th>\n",
       "      <td>0</td>\n",
       "      <td>0.00</td>\n",
       "    </tr>\n",
       "    <tr>\n",
       "      <th>city</th>\n",
       "      <td>0</td>\n",
       "      <td>0.00</td>\n",
       "    </tr>\n",
       "    <tr>\n",
       "      <th>city_development_index</th>\n",
       "      <td>0</td>\n",
       "      <td>0.00</td>\n",
       "    </tr>\n",
       "    <tr>\n",
       "      <th>gender</th>\n",
       "      <td>4508</td>\n",
       "      <td>23.53</td>\n",
       "    </tr>\n",
       "    <tr>\n",
       "      <th>relevent_experience</th>\n",
       "      <td>0</td>\n",
       "      <td>0.00</td>\n",
       "    </tr>\n",
       "    <tr>\n",
       "      <th>enrolled_university</th>\n",
       "      <td>386</td>\n",
       "      <td>2.01</td>\n",
       "    </tr>\n",
       "    <tr>\n",
       "      <th>education_level</th>\n",
       "      <td>460</td>\n",
       "      <td>2.40</td>\n",
       "    </tr>\n",
       "    <tr>\n",
       "      <th>major_discipline</th>\n",
       "      <td>2813</td>\n",
       "      <td>14.68</td>\n",
       "    </tr>\n",
       "    <tr>\n",
       "      <th>experience</th>\n",
       "      <td>65</td>\n",
       "      <td>0.34</td>\n",
       "    </tr>\n",
       "    <tr>\n",
       "      <th>company_size</th>\n",
       "      <td>5938</td>\n",
       "      <td>30.99</td>\n",
       "    </tr>\n",
       "    <tr>\n",
       "      <th>company_type</th>\n",
       "      <td>6140</td>\n",
       "      <td>32.05</td>\n",
       "    </tr>\n",
       "    <tr>\n",
       "      <th>last_new_job</th>\n",
       "      <td>423</td>\n",
       "      <td>2.21</td>\n",
       "    </tr>\n",
       "    <tr>\n",
       "      <th>training_hours</th>\n",
       "      <td>0</td>\n",
       "      <td>0.00</td>\n",
       "    </tr>\n",
       "    <tr>\n",
       "      <th>target</th>\n",
       "      <td>0</td>\n",
       "      <td>0.00</td>\n",
       "    </tr>\n",
       "  </tbody>\n",
       "</table>\n",
       "</div>"
      ],
      "text/plain": [
       "                        Missing Count  Missing %\n",
       "enrollee_id                         0       0.00\n",
       "city                                0       0.00\n",
       "city_development_index              0       0.00\n",
       "gender                           4508      23.53\n",
       "relevent_experience                 0       0.00\n",
       "enrolled_university               386       2.01\n",
       "education_level                   460       2.40\n",
       "major_discipline                 2813      14.68\n",
       "experience                         65       0.34\n",
       "company_size                     5938      30.99\n",
       "company_type                     6140      32.05\n",
       "last_new_job                      423       2.21\n",
       "training_hours                      0       0.00\n",
       "target                              0       0.00"
      ]
     },
     "execution_count": 86,
     "metadata": {},
     "output_type": "execute_result"
    }
   ],
   "source": [
    "pd.DataFrame({\n",
    "    'Missing Count': df.isna().sum(),\n",
    "    'Missing %': (df.isna().sum() / df.shape[0] * 100).round(2)\n",
    "})"
   ]
  },
  {
   "cell_type": "markdown",
   "id": "47b1d170",
   "metadata": {},
   "source": [
    "- For the columns that contains less than 3% missing values, we will drop the rows that contains missing entries. For all other columns having more than 10% missing values, noticing all of them are categorical variables, we will add a corresponding missing values indicator column and then encode the missing entries as 'MISSING'."
   ]
  },
  {
   "cell_type": "markdown",
   "id": "8bae5fa4",
   "metadata": {},
   "source": [
    "### 3.1 Drop Rows with `NaN` for columns:\n",
    "- enrolled_university\n",
    "- education_level\n",
    "- experience\n",
    "- last_new_job"
   ]
  },
  {
   "cell_type": "code",
   "execution_count": 87,
   "id": "67f7e20b",
   "metadata": {},
   "outputs": [],
   "source": [
    "df.dropna(subset=['enrolled_university', 'education_level', 'experience', 'last_new_job'], inplace=True)"
   ]
  },
  {
   "cell_type": "code",
   "execution_count": 88,
   "id": "c0935fa3",
   "metadata": {},
   "outputs": [
    {
     "data": {
      "text/html": [
       "<div>\n",
       "<style scoped>\n",
       "    .dataframe tbody tr th:only-of-type {\n",
       "        vertical-align: middle;\n",
       "    }\n",
       "\n",
       "    .dataframe tbody tr th {\n",
       "        vertical-align: top;\n",
       "    }\n",
       "\n",
       "    .dataframe thead th {\n",
       "        text-align: right;\n",
       "    }\n",
       "</style>\n",
       "<table border=\"1\" class=\"dataframe\">\n",
       "  <thead>\n",
       "    <tr style=\"text-align: right;\">\n",
       "      <th></th>\n",
       "      <th>Missing Count</th>\n",
       "      <th>Missing %</th>\n",
       "    </tr>\n",
       "  </thead>\n",
       "  <tbody>\n",
       "    <tr>\n",
       "      <th>enrollee_id</th>\n",
       "      <td>0</td>\n",
       "      <td>0.00</td>\n",
       "    </tr>\n",
       "    <tr>\n",
       "      <th>city</th>\n",
       "      <td>0</td>\n",
       "      <td>0.00</td>\n",
       "    </tr>\n",
       "    <tr>\n",
       "      <th>city_development_index</th>\n",
       "      <td>0</td>\n",
       "      <td>0.00</td>\n",
       "    </tr>\n",
       "    <tr>\n",
       "      <th>gender</th>\n",
       "      <td>3863</td>\n",
       "      <td>21.44</td>\n",
       "    </tr>\n",
       "    <tr>\n",
       "      <th>relevent_experience</th>\n",
       "      <td>0</td>\n",
       "      <td>0.00</td>\n",
       "    </tr>\n",
       "    <tr>\n",
       "      <th>enrolled_university</th>\n",
       "      <td>0</td>\n",
       "      <td>0.00</td>\n",
       "    </tr>\n",
       "    <tr>\n",
       "      <th>education_level</th>\n",
       "      <td>0</td>\n",
       "      <td>0.00</td>\n",
       "    </tr>\n",
       "    <tr>\n",
       "      <th>major_discipline</th>\n",
       "      <td>2222</td>\n",
       "      <td>12.33</td>\n",
       "    </tr>\n",
       "    <tr>\n",
       "      <th>experience</th>\n",
       "      <td>0</td>\n",
       "      <td>0.00</td>\n",
       "    </tr>\n",
       "    <tr>\n",
       "      <th>company_size</th>\n",
       "      <td>5310</td>\n",
       "      <td>29.48</td>\n",
       "    </tr>\n",
       "    <tr>\n",
       "      <th>company_type</th>\n",
       "      <td>5476</td>\n",
       "      <td>30.40</td>\n",
       "    </tr>\n",
       "    <tr>\n",
       "      <th>last_new_job</th>\n",
       "      <td>0</td>\n",
       "      <td>0.00</td>\n",
       "    </tr>\n",
       "    <tr>\n",
       "      <th>training_hours</th>\n",
       "      <td>0</td>\n",
       "      <td>0.00</td>\n",
       "    </tr>\n",
       "    <tr>\n",
       "      <th>target</th>\n",
       "      <td>0</td>\n",
       "      <td>0.00</td>\n",
       "    </tr>\n",
       "  </tbody>\n",
       "</table>\n",
       "</div>"
      ],
      "text/plain": [
       "                        Missing Count  Missing %\n",
       "enrollee_id                         0       0.00\n",
       "city                                0       0.00\n",
       "city_development_index              0       0.00\n",
       "gender                           3863      21.44\n",
       "relevent_experience                 0       0.00\n",
       "enrolled_university                 0       0.00\n",
       "education_level                     0       0.00\n",
       "major_discipline                 2222      12.33\n",
       "experience                          0       0.00\n",
       "company_size                     5310      29.48\n",
       "company_type                     5476      30.40\n",
       "last_new_job                        0       0.00\n",
       "training_hours                      0       0.00\n",
       "target                              0       0.00"
      ]
     },
     "execution_count": 88,
     "metadata": {},
     "output_type": "execute_result"
    }
   ],
   "source": [
    "pd.DataFrame({\n",
    "    'Missing Count': df.isna().sum(),\n",
    "    'Missing %': (df.isna().sum() / df.shape[0] * 100).round(2)\n",
    "})"
   ]
  },
  {
   "cell_type": "markdown",
   "id": "de0be0e5",
   "metadata": {},
   "source": [
    "### 3.2 Impute missing values and add missing values indicator column for columns:\n",
    "- gender\n",
    "- major_discipline\n",
    "- company_size\n",
    "- company_type"
   ]
  },
  {
   "cell_type": "code",
   "execution_count": 89,
   "id": "a1c0bb1d",
   "metadata": {},
   "outputs": [],
   "source": [
    "impute_list = ['gender', 'major_discipline', 'company_size', 'company_type']\n",
    "\n",
    "for column in impute_list:\n",
    "    df[column + '_missing'] = df[column].isna().astype(int)\n",
    "    df[column].fillna(value='MISSING', inplace=True)"
   ]
  },
  {
   "cell_type": "code",
   "execution_count": 90,
   "id": "85d673cc",
   "metadata": {},
   "outputs": [
    {
     "data": {
      "text/html": [
       "<div>\n",
       "<style scoped>\n",
       "    .dataframe tbody tr th:only-of-type {\n",
       "        vertical-align: middle;\n",
       "    }\n",
       "\n",
       "    .dataframe tbody tr th {\n",
       "        vertical-align: top;\n",
       "    }\n",
       "\n",
       "    .dataframe thead th {\n",
       "        text-align: right;\n",
       "    }\n",
       "</style>\n",
       "<table border=\"1\" class=\"dataframe\">\n",
       "  <thead>\n",
       "    <tr style=\"text-align: right;\">\n",
       "      <th></th>\n",
       "      <th>Missing Count</th>\n",
       "      <th>Missing %</th>\n",
       "    </tr>\n",
       "  </thead>\n",
       "  <tbody>\n",
       "    <tr>\n",
       "      <th>enrollee_id</th>\n",
       "      <td>0</td>\n",
       "      <td>0.0</td>\n",
       "    </tr>\n",
       "    <tr>\n",
       "      <th>city</th>\n",
       "      <td>0</td>\n",
       "      <td>0.0</td>\n",
       "    </tr>\n",
       "    <tr>\n",
       "      <th>city_development_index</th>\n",
       "      <td>0</td>\n",
       "      <td>0.0</td>\n",
       "    </tr>\n",
       "    <tr>\n",
       "      <th>gender</th>\n",
       "      <td>0</td>\n",
       "      <td>0.0</td>\n",
       "    </tr>\n",
       "    <tr>\n",
       "      <th>relevent_experience</th>\n",
       "      <td>0</td>\n",
       "      <td>0.0</td>\n",
       "    </tr>\n",
       "    <tr>\n",
       "      <th>enrolled_university</th>\n",
       "      <td>0</td>\n",
       "      <td>0.0</td>\n",
       "    </tr>\n",
       "    <tr>\n",
       "      <th>education_level</th>\n",
       "      <td>0</td>\n",
       "      <td>0.0</td>\n",
       "    </tr>\n",
       "    <tr>\n",
       "      <th>major_discipline</th>\n",
       "      <td>0</td>\n",
       "      <td>0.0</td>\n",
       "    </tr>\n",
       "    <tr>\n",
       "      <th>experience</th>\n",
       "      <td>0</td>\n",
       "      <td>0.0</td>\n",
       "    </tr>\n",
       "    <tr>\n",
       "      <th>company_size</th>\n",
       "      <td>0</td>\n",
       "      <td>0.0</td>\n",
       "    </tr>\n",
       "    <tr>\n",
       "      <th>company_type</th>\n",
       "      <td>0</td>\n",
       "      <td>0.0</td>\n",
       "    </tr>\n",
       "    <tr>\n",
       "      <th>last_new_job</th>\n",
       "      <td>0</td>\n",
       "      <td>0.0</td>\n",
       "    </tr>\n",
       "    <tr>\n",
       "      <th>training_hours</th>\n",
       "      <td>0</td>\n",
       "      <td>0.0</td>\n",
       "    </tr>\n",
       "    <tr>\n",
       "      <th>target</th>\n",
       "      <td>0</td>\n",
       "      <td>0.0</td>\n",
       "    </tr>\n",
       "    <tr>\n",
       "      <th>gender_missing</th>\n",
       "      <td>0</td>\n",
       "      <td>0.0</td>\n",
       "    </tr>\n",
       "    <tr>\n",
       "      <th>major_discipline_missing</th>\n",
       "      <td>0</td>\n",
       "      <td>0.0</td>\n",
       "    </tr>\n",
       "    <tr>\n",
       "      <th>company_size_missing</th>\n",
       "      <td>0</td>\n",
       "      <td>0.0</td>\n",
       "    </tr>\n",
       "    <tr>\n",
       "      <th>company_type_missing</th>\n",
       "      <td>0</td>\n",
       "      <td>0.0</td>\n",
       "    </tr>\n",
       "  </tbody>\n",
       "</table>\n",
       "</div>"
      ],
      "text/plain": [
       "                          Missing Count  Missing %\n",
       "enrollee_id                           0        0.0\n",
       "city                                  0        0.0\n",
       "city_development_index                0        0.0\n",
       "gender                                0        0.0\n",
       "relevent_experience                   0        0.0\n",
       "enrolled_university                   0        0.0\n",
       "education_level                       0        0.0\n",
       "major_discipline                      0        0.0\n",
       "experience                            0        0.0\n",
       "company_size                          0        0.0\n",
       "company_type                          0        0.0\n",
       "last_new_job                          0        0.0\n",
       "training_hours                        0        0.0\n",
       "target                                0        0.0\n",
       "gender_missing                        0        0.0\n",
       "major_discipline_missing              0        0.0\n",
       "company_size_missing                  0        0.0\n",
       "company_type_missing                  0        0.0"
      ]
     },
     "execution_count": 90,
     "metadata": {},
     "output_type": "execute_result"
    }
   ],
   "source": [
    "pd.DataFrame({\n",
    "    'Missing Count': df.isna().sum(),\n",
    "    'Missing %': (df.isna().sum() / df.shape[0] * 100).round(2)\n",
    "})"
   ]
  },
  {
   "cell_type": "markdown",
   "id": "0cfa8a02",
   "metadata": {},
   "source": [
    "## 4. Output of data preprocessing"
   ]
  },
  {
   "cell_type": "code",
   "execution_count": 100,
   "id": "9831c14d",
   "metadata": {},
   "outputs": [],
   "source": [
    "# df.to_csv('data/clean/hr_analytics.csv', index=False)"
   ]
  },
  {
   "cell_type": "markdown",
   "id": "5ceebcd6",
   "metadata": {},
   "source": [
    "## 5. Data Scaling and Skewness (to consider when using linear models)"
   ]
  },
  {
   "cell_type": "code",
   "execution_count": 76,
   "id": "b01449be",
   "metadata": {},
   "outputs": [
    {
     "data": {
      "text/plain": [
       "min     0.4480\n",
       "max     0.9490\n",
       "mean    0.8317\n",
       "Name: city_development_index, dtype: float64"
      ]
     },
     "execution_count": 76,
     "metadata": {},
     "output_type": "execute_result"
    }
   ],
   "source": [
    "df.city_development_index.agg(['min', 'max', 'mean']).round(4)"
   ]
  },
  {
   "cell_type": "code",
   "execution_count": 77,
   "id": "2ef7e5df",
   "metadata": {},
   "outputs": [
    {
     "data": {
      "text/plain": [
       "min       1.0000\n",
       "max     336.0000\n",
       "mean     65.3479\n",
       "Name: training_hours, dtype: float64"
      ]
     },
     "execution_count": 77,
     "metadata": {},
     "output_type": "execute_result"
    }
   ],
   "source": [
    "df.training_hours.agg(['min', 'max', 'mean']).round(4)"
   ]
  },
  {
   "cell_type": "markdown",
   "id": "36b2ec01",
   "metadata": {},
   "source": [
    "- when using linear models, we might need to consider a log transformation on the `training_hours` feature so as to obtain a normal distribution on the transformed feature which better suits the requirements of such type of models."
   ]
  },
  {
   "cell_type": "code",
   "execution_count": 115,
   "id": "8baf0d80",
   "metadata": {},
   "outputs": [
    {
     "data": {
      "text/plain": [
       "Text(0.5, 0, 'log transform')"
      ]
     },
     "execution_count": 115,
     "metadata": {},
     "output_type": "execute_result"
    },
    {
     "data": {
      "image/png": "[encoded data removed]",
      "text/plain": [
       "<Figure size 864x288 with 2 Axes>"
      ]
     },
     "metadata": {},
     "output_type": "display_data"
    }
   ],
   "source": [
    "fig, ax = plt.subplots(1, 2, figsize=(12, 4))\n",
    "sns.histplot(x=df.training_hours, ax=ax[0]);\n",
    "sns.histplot(x=df.training_hours.apply(np.log), ax=ax[1]); ax[1].set_xlabel('log transform')"
   ]
  }
 ],
 "metadata": {
  "kernelspec": {
   "display_name": "Python 3",
   "language": "python",
   "name": "python3"
  },
  "language_info": {
   "codemirror_mode": {
    "name": "ipython",
    "version": 3
   },
   "file_extension": ".py",
   "mimetype": "text/x-python",
   "name": "python",
   "nbconvert_exporter": "python",
   "pygments_lexer": "ipython3",
   "version": "3.8.8"
  }
 },
 "nbformat": 4,
 "nbformat_minor": 5
}
