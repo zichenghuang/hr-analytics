{
 "cells": [
  {
   "cell_type": "markdown",
   "id": "991b5f59",
   "metadata": {},
   "source": [
    "# Random Forest"
   ]
  },
  {
   "cell_type": "code",
   "execution_count": 1,
   "id": "33cfb126",
   "metadata": {},
   "outputs": [],
   "source": [
    "import numpy as np\n",
    "import pandas as pd\n",
    "import matplotlib.pyplot as plt\n",
    "%matplotlib inline\n",
    "import seaborn as sns\n",
    "sns.set_style('darkgrid')\n",
    "\n",
    "from category_encoders import TargetEncoder\n",
    "from sklearn.compose import ColumnTransformer\n",
    "from sklearn.preprocessing import StandardScaler, FunctionTransformer\n",
    "from sklearn.model_selection import train_test_split, GridSearchCV\n",
    "from sklearn.decomposition import PCA\n",
    "from sklearn.ensemble import RandomForestClassifier\n",
    "from sklearn.pipeline import Pipeline\n",
    "from sklearn.metrics import ConfusionMatrixDisplay"
   ]
  },
  {
   "cell_type": "code",
   "execution_count": 2,
   "id": "feb0b0ae",
   "metadata": {},
   "outputs": [],
   "source": [
    "hr = pd.read_csv('data/clean/hr_analytics.csv')"
   ]
  },
  {
   "cell_type": "markdown",
   "id": "73e1323e",
   "metadata": {},
   "source": [
    "## 1. Train Test Splits"
   ]
  },
  {
   "cell_type": "markdown",
   "id": "c10cd706",
   "metadata": {},
   "source": [
    "- list of features"
   ]
  },
  {
   "cell_type": "code",
   "execution_count": 3,
   "id": "dc1a5780",
   "metadata": {},
   "outputs": [],
   "source": [
    "features = [\n",
    "    'city_development_index', \n",
    "    'gender', \n",
    "    'relevent_experience', \n",
    "    'enrolled_university', \n",
    "    'education_level', \n",
    "    'major_discipline', \n",
    "    'experience', \n",
    "    'company_size',\n",
    "    'company_type',\n",
    "    'training_hours',\n",
    "    'gender_missing',\n",
    "    'major_discipline_missing',\n",
    "    'company_size_missing',\n",
    "    'company_type_missing'    \n",
    "]\n",
    "\n",
    "X = hr[features]\n",
    "y = hr['target']"
   ]
  },
  {
   "cell_type": "markdown",
   "id": "188c92f2",
   "metadata": {},
   "source": [
    "- check distribution of target label"
   ]
  },
  {
   "cell_type": "code",
   "execution_count": 4,
   "id": "0e1cf388",
   "metadata": {},
   "outputs": [
    {
     "data": {
      "image/png": "[encoded data removed]",
      "text/plain": [
       "<Figure size 432x288 with 1 Axes>"
      ]
     },
     "metadata": {},
     "output_type": "display_data"
    }
   ],
   "source": [
    "sns.countplot(x=y);"
   ]
  },
  {
   "cell_type": "markdown",
   "id": "f724d9e3",
   "metadata": {},
   "source": [
    "- use stratified split for a imbalanced dataset"
   ]
  },
  {
   "cell_type": "code",
   "execution_count": 5,
   "id": "47676439",
   "metadata": {},
   "outputs": [],
   "source": [
    "X_dev, X_test, y_dev, y_test = train_test_split(X, y, test_size=0.2, stratify=y, random_state=42)"
   ]
  },
  {
   "cell_type": "markdown",
   "id": "ae894594",
   "metadata": {},
   "source": [
    "## 2. Hyperparameter Tuning"
   ]
  },
  {
   "cell_type": "markdown",
   "id": "5733e237",
   "metadata": {},
   "source": [
    "- specify column subset"
   ]
  },
  {
   "cell_type": "code",
   "execution_count": 6,
   "id": "c5b44213",
   "metadata": {},
   "outputs": [],
   "source": [
    "numeric_features = [\n",
    "    'city_development_index', \n",
    "    'training_hours'\n",
    "]\n",
    "\n",
    "categorical_features = [\n",
    "    'gender', \n",
    "    'relevent_experience', \n",
    "    'enrolled_university', \n",
    "    'education_level', \n",
    "    'major_discipline', \n",
    "    'experience', \n",
    "    'company_size',\n",
    "    'company_type',\n",
    "    'gender_missing',\n",
    "    'major_discipline_missing',\n",
    "    'company_size_missing',\n",
    "    'company_type_missing' \n",
    "]"
   ]
  },
  {
   "cell_type": "markdown",
   "id": "1df1ef43",
   "metadata": {},
   "source": [
    "- encoding and scaling pipeline"
   ]
  },
  {
   "cell_type": "code",
   "execution_count": 7,
   "id": "363c0636",
   "metadata": {},
   "outputs": [],
   "source": [
    "preprocess_rf = ColumnTransformer(\n",
    "    transformers=[\n",
    "        ('targetencode', TargetEncoder(), categorical_features),\n",
    "        ('standardscaler', StandardScaler(), numeric_features)], \n",
    "    n_jobs=-1\n",
    ")"
   ]
  },
  {
   "cell_type": "markdown",
   "id": "89f55975",
   "metadata": {},
   "source": [
    "- classifier pipeline"
   ]
  },
  {
   "cell_type": "code",
   "execution_count": 8,
   "id": "7e0f509d",
   "metadata": {},
   "outputs": [],
   "source": [
    "pipe_rf = Pipeline(\n",
    "    steps=[\n",
    "        ('preprocess', preprocess_rf),\n",
    "        ('rf', RandomForestClassifier(n_jobs=-1, random_state=42, warm_start=True))]\n",
    ")"
   ]
  },
  {
   "cell_type": "markdown",
   "id": "95da4b7b",
   "metadata": {},
   "source": [
    "- hyperparameter tuning"
   ]
  },
  {
   "cell_type": "code",
   "execution_count": 9,
   "id": "66688b8f",
   "metadata": {},
   "outputs": [
    {
     "name": "stdout",
     "output_type": "stream",
     "text": [
      "Wall time: 21 s\n"
     ]
    }
   ],
   "source": [
    "%%time\n",
    "params_rf = {\n",
    "    'rf__n_estimators': [100, 200, 300, 400, 500],\n",
    "    'rf__max_depth': [2, 4, 6, 8, 10]\n",
    "}\n",
    "\n",
    "gscv_rf = GridSearchCV(\n",
    "    pipe_rf, \n",
    "    params_rf, \n",
    "    scoring='roc_auc',\n",
    "    cv=5, \n",
    "    n_jobs=-1).fit(X_dev, y_dev)"
   ]
  },
  {
   "cell_type": "code",
   "execution_count": 10,
   "id": "bcbde975",
   "metadata": {},
   "outputs": [
    {
     "data": {
      "text/plain": [
       "{'rf__max_depth': 8, 'rf__n_estimators': 300}"
      ]
     },
     "execution_count": 10,
     "metadata": {},
     "output_type": "execute_result"
    }
   ],
   "source": [
    "gscv_rf.best_params_"
   ]
  },
  {
   "cell_type": "code",
   "execution_count": 11,
   "id": "3418d3ee",
   "metadata": {},
   "outputs": [
    {
     "name": "stdout",
     "output_type": "stream",
     "text": [
      "train accuracy: 0.8497930181212104\n"
     ]
    }
   ],
   "source": [
    "print(f'train accuracy: {gscv_rf.score(X_dev, y_dev)}')"
   ]
  },
  {
   "cell_type": "markdown",
   "id": "21b40e24",
   "metadata": {},
   "source": [
    "## 3. Optimal Model Training"
   ]
  },
  {
   "cell_type": "code",
   "execution_count": 12,
   "id": "8b8094c5",
   "metadata": {},
   "outputs": [
    {
     "data": {
      "image/png": "[encoded data removed]",
      "text/plain": [
       "<Figure size 432x288 with 2 Axes>"
      ]
     },
     "metadata": {},
     "output_type": "display_data"
    }
   ],
   "source": [
    "ConfusionMatrixDisplay.from_estimator(gscv_rf.best_estimator_, X_test, y_test);"
   ]
  }
 ],
 "metadata": {
  "kernelspec": {
   "display_name": "Python 3",
   "language": "python",
   "name": "python3"
  },
  "language_info": {
   "codemirror_mode": {
    "name": "ipython",
    "version": 3
   },
   "file_extension": ".py",
   "mimetype": "text/x-python",
   "name": "python",
   "nbconvert_exporter": "python",
   "pygments_lexer": "ipython3",
   "version": "3.8.8"
  }
 },
 "nbformat": 4,
 "nbformat_minor": 5
}
